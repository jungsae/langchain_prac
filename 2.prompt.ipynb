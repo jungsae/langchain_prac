{
 "cells": [
  {
   "cell_type": "code",
   "execution_count": null,
   "id": "47890974",
   "metadata": {},
   "outputs": [
    {
     "data": {
      "text/plain": [
       "AIMessage(content='한국의 수도는 창원시에 위치한 경상남도이다.', additional_kwargs={}, response_metadata={'model': 'llama3.2:1b', 'created_at': '2025-07-22T03:45:42.9151074Z', 'done': True, 'done_reason': 'stop', 'total_duration': 110789700, 'load_duration': 26902500, 'prompt_eval_count': 33, 'prompt_eval_duration': 5184700, 'eval_count': 16, 'eval_duration': 78192900, 'model_name': 'llama3.2:1b'}, id='run--466f817b-5044-404f-afa6-094067846f7b-0', usage_metadata={'input_tokens': 33, 'output_tokens': 16, 'total_tokens': 49})"
      ]
     },
     "execution_count": 3,
     "metadata": {},
     "output_type": "execute_result"
    }
   ],
   "source": [
    "from langchain_ollama import ChatOllama\n",
    "\n",
    "llm = ChatOllama(model=\"llama3.2:1b\")\n",
    "\n",
    "llm.invoke(\"where is the capital of Korea?\")"
   ]
  },
  {
   "cell_type": "code",
   "execution_count": 5,
   "id": "eba17f19",
   "metadata": {},
   "outputs": [
    {
     "data": {
      "text/plain": [
       "AIMessage(content='The capital of Japan is Tokyo.', additional_kwargs={}, response_metadata={'model': 'llama3.2:1b', 'created_at': '2025-07-22T03:45:48.0343927Z', 'done': True, 'done_reason': 'stop', 'total_duration': 78385500, 'load_duration': 33819300, 'prompt_eval_count': 32, 'prompt_eval_duration': 1034000, 'eval_count': 8, 'eval_duration': 42533500, 'model_name': 'llama3.2:1b'}, id='run--07a6d6f3-f4f9-45ec-86f7-395a77939291-0', usage_metadata={'input_tokens': 32, 'output_tokens': 8, 'total_tokens': 40})"
      ]
     },
     "execution_count": 5,
     "metadata": {},
     "output_type": "execute_result"
    }
   ],
   "source": [
    "from langchain_core.prompts import PromptTemplate\n",
    "\n",
    "prompt_template = PromptTemplate(\n",
    "    template=\"what is the capital of {country}?\",\n",
    "    input_variables=[\"country\"]\n",
    ")\n",
    "\n",
    "promt = prompt_template.invoke({\"country\": \"japan\"})\n",
    "\n",
    "llm.invoke(promt)"
   ]
  },
  {
   "cell_type": "code",
   "execution_count": 16,
   "id": "24ddea3b",
   "metadata": {},
   "outputs": [
    {
     "data": {
      "text/plain": [
       "AIMessage(content=\"The current and official capital of South Korea is Seoul. The official name of the country is the Republic of Korea.\\n\\nHowever, it's worth noting that the Demilitarized Zone (DMZ) between North and South Korea is also considered a separate entity and serves as a buffer zone, but it's not always recognized as a sovereign state.\\n\\nThe two main cities that serve as international borders are:\\n\\n* Pyeongchang (on the Korean Peninsula)\\n* Daejeon (in the Gyeongsangbuk-do province)\\n\\nThese cities have their own governments and economies.\", additional_kwargs={}, response_metadata={'model': 'llama3.2:1b', 'created_at': '2025-07-22T03:55:06.1360212Z', 'done': True, 'done_reason': 'stop', 'total_duration': 874841600, 'load_duration': 29472400, 'prompt_eval_count': 62, 'prompt_eval_duration': 5734300, 'eval_count': 118, 'eval_duration': 838615400, 'model_name': 'llama3.2:1b'}, id='run--42a86eaa-0e5c-4fd1-b7c4-86e02be15a9d-0', usage_metadata={'input_tokens': 62, 'output_tokens': 118, 'total_tokens': 180})"
      ]
     },
     "execution_count": 16,
     "metadata": {},
     "output_type": "execute_result"
    }
   ],
   "source": [
    "from langchain_core.messages import HumanMessage, SystemMessage, AIMessage\n",
    "\n",
    "message_list = [\n",
    "    SystemMessage(content=\"You are a helpful assistant that can answer questions about the capital of countries.\"),\n",
    "    AIMessage(content=\"The capital of korea is seoul.\"),\n",
    "    HumanMessage(content=\"what is the capital of korea?\"),\n",
    "]\n",
    "\n",
    "llm.invoke(message_list)"
   ]
  }
 ],
 "metadata": {
  "kernelspec": {
   "display_name": "langchain-basic",
   "language": "python",
   "name": "python3"
  },
  "language_info": {
   "codemirror_mode": {
    "name": "ipython",
    "version": 3
   },
   "file_extension": ".py",
   "mimetype": "text/x-python",
   "name": "python",
   "nbconvert_exporter": "python",
   "pygments_lexer": "ipython3",
   "version": "3.11.13"
  }
 },
 "nbformat": 4,
 "nbformat_minor": 5
}

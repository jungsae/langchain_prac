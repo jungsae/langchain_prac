{
 "cells": [
  {
   "cell_type": "code",
   "execution_count": null,
   "id": "47890974",
   "metadata": {},
   "outputs": [
    {
     "name": "stdout",
     "output_type": "stream",
     "text": [
      "content='The capital of South Korea is Seoul. However, it\\'s worth noting that the Demilitarized Zone (DMZ) between North and South Korea also has a significant presence in Seoul, and there are several areas designated as \"de facto capitals\" due to the close relationship between the two countries.\\n\\nIn terms of which specific city within Seoul serves as the de facto capital, it\\'s generally agreed upon that:\\n\\n* Seongbuk-gu: This area is home to many government buildings, schools, and hospitals in South Korea.\\n* Yongsan-gu: This area is also a hub for government institutions and military bases in South Korea.\\n* Mapo-gu: This area serves as a center for the city\\'s international community and has several diplomatic missions from other countries.\\n\\nHowever, Seoul itself is often considered the \"de facto capital\" due to its status as the economic and cultural center of South Korea.' additional_kwargs={} response_metadata={'model': 'llama3.2:1b', 'created_at': '2025-07-23T20:58:14.0890488Z', 'done': True, 'done_reason': 'stop', 'total_duration': 949139700, 'load_duration': 26013500, 'prompt_eval_count': 32, 'prompt_eval_duration': 1076000, 'eval_count': 185, 'eval_duration': 921020100, 'model_name': 'llama3.2:1b'} id='run--99c7f270-339a-444e-9947-e83209207dc1-0' usage_metadata={'input_tokens': 32, 'output_tokens': 185, 'total_tokens': 217}\n"
     ]
    }
   ],
   "source": [
    "from langchain_ollama import ChatOllama\n",
    "\n",
    "llm = ChatOllama(model=\"llama3.2:1b\")\n",
    "\n",
    "llm.invoke(\"where is the capital of Korea?\")"
   ]
  },
  {
   "cell_type": "code",
   "execution_count": 29,
   "id": "eba17f19",
   "metadata": {},
   "outputs": [
    {
     "name": "stdout",
     "output_type": "stream",
     "text": [
      "text='what is the capital of Japan?'\n"
     ]
    },
    {
     "data": {
      "text/plain": [
       "AIMessage(content='The capital of Japan is Tokyo.', additional_kwargs={}, response_metadata={'model': 'llama3.2:1b', 'created_at': '2025-07-24T02:45:16.7256438Z', 'done': True, 'done_reason': 'stop', 'total_duration': 116293000, 'load_duration': 27246400, 'prompt_eval_count': 32, 'prompt_eval_duration': 4323300, 'eval_count': 8, 'eval_duration': 84180400, 'model_name': 'llama3.2:1b'}, id='run--e48842df-4d07-42ea-89d5-aed53b7d622d-0', usage_metadata={'input_tokens': 32, 'output_tokens': 8, 'total_tokens': 40})"
      ]
     },
     "execution_count": 29,
     "metadata": {},
     "output_type": "execute_result"
    }
   ],
   "source": [
    "from langchain_core.prompts import PromptTemplate\n",
    "\n",
    "prompt_template = PromptTemplate(\n",
    "    template=\"what is the capital of {country}?\",\n",
    "    input_variables=[\"country\"]\n",
    ")\n",
    "\n",
    "promt = prompt_template.invoke({\"country\": \"Japan\"})\n",
    "\n",
    "print(promt)\n",
    "\n",
    "llm.invoke(prompt_template.invoke({\"country\": \"Japan\"}))"
   ]
  },
  {
   "cell_type": "code",
   "execution_count": 10,
   "id": "24ddea3b",
   "metadata": {},
   "outputs": [
    {
     "data": {
      "text/plain": [
       "AIMessage(content='I can answer that for you.\\n\\nTo provide an accurate answer, could you please specify which country you are looking for the capital of?', additional_kwargs={}, response_metadata={'model': 'llama3.2:1b', 'created_at': '2025-07-23T21:03:13.6769637Z', 'done': True, 'done_reason': 'stop', 'total_duration': 485226800, 'load_duration': 31914100, 'prompt_eval_count': 126, 'prompt_eval_duration': 6737900, 'eval_count': 28, 'eval_duration': 445999600, 'model_name': 'llama3.2:1b'}, id='run--e9723481-3a6b-4f0f-a4ab-3a338cdf0745-0', usage_metadata={'input_tokens': 126, 'output_tokens': 28, 'total_tokens': 154})"
      ]
     },
     "execution_count": 10,
     "metadata": {},
     "output_type": "execute_result"
    }
   ],
   "source": [
    "from langchain_core.messages import HumanMessage, SystemMessage, AIMessage\n",
    "\n",
    "message_list = [\n",
    "    SystemMessage(content=\"You are a helpful assistant that can answer questions about the capital of countries.\"),\n",
    "    HumanMessage(content=\"what is the capital of korea?\"),\n",
    "    AIMessage(content=\"The capital of korea is seoul.\"),    \n",
    "    HumanMessage(content=\"what is the capital of japan?\"),\n",
    "    AIMessage(content=\"The capital of japan is tokyo.\"),\n",
    "    HumanMessage(content=\"what is the capital of china?\"),\n",
    "    AIMessage(content=\"The capital of china is beijing.\"),\n",
    "    HumanMessage(content=\"what is the capital of {country}?\")\n",
    "    ]\n",
    "\n",
    "llm.invoke(message_list)"
   ]
  },
  {
   "cell_type": "code",
   "execution_count": 22,
   "id": "3dcbba4f",
   "metadata": {},
   "outputs": [
    {
     "name": "stdout",
     "output_type": "stream",
     "text": [
      "messages=[SystemMessage(content='You are a helpful assistant that can answer questions about the capital of countries.', additional_kwargs={}, response_metadata={}), HumanMessage(content='what is the capital of korea?', additional_kwargs={}, response_metadata={})]\n"
     ]
    }
   ],
   "source": [
    "from langchain_core.prompts import ChatPromptTemplate\n",
    "\n",
    "chat_prompt_template = ChatPromptTemplate.from_messages([\n",
    "    (\"system\", \"You are a helpful assistant that can answer questions about the capital of countries.\"),\n",
    "    (\"human\", \"what is the capital of {country}?\")\n",
    "])\n",
    "\n",
    "message = chat_prompt_template.invoke({\"country\": \"korea\"})\n",
    "\n",
    "print(message)\n"
   ]
  },
  {
   "cell_type": "code",
   "execution_count": 19,
   "id": "0ae6443d",
   "metadata": {},
   "outputs": [
    {
     "data": {
      "text/plain": [
       "[SystemMessage(content='You are a helpful assistant that can answer questions about the capital of countries.', additional_kwargs={}, response_metadata={}),\n",
       " HumanMessage(content='what is the capital of korea?', additional_kwargs={}, response_metadata={})]"
      ]
     },
     "execution_count": 19,
     "metadata": {},
     "output_type": "execute_result"
    }
   ],
   "source": [
    "message.messages"
   ]
  },
  {
   "cell_type": "code",
   "execution_count": 21,
   "id": "d0f9a3da",
   "metadata": {},
   "outputs": [
    {
     "data": {
      "text/plain": [
       "AIMessage(content=\"The capital of South Korea is Seoul. However, it's worth noting that North Korea also claims Seoul as its own capital, and many Koreans consider Pyongyang to be the true capital of Korea.\\n\\nBut if you're referring specifically to South Korea, Seoul has been the country's capital since 1935 and remains a major cultural, economic, and political center.\\n\\nWould you like to know more about Seoul or Korean culture?\", additional_kwargs={}, response_metadata={'model': 'llama3.2:1b', 'created_at': '2025-07-23T21:06:42.5162458Z', 'done': True, 'done_reason': 'stop', 'total_duration': 510942800, 'load_duration': 27485700, 'prompt_eval_count': 48, 'prompt_eval_duration': 6349500, 'eval_count': 84, 'eval_duration': 476582800, 'model_name': 'llama3.2:1b'}, id='run--7745b4cc-1b41-446f-8487-0ecbfe2031e4-0', usage_metadata={'input_tokens': 48, 'output_tokens': 84, 'total_tokens': 132})"
      ]
     },
     "execution_count": 21,
     "metadata": {},
     "output_type": "execute_result"
    }
   ],
   "source": [
    "llm.invoke(message)"
   ]
  }
 ],
 "metadata": {
  "kernelspec": {
   "display_name": "langchain-basic",
   "language": "python",
   "name": "python3"
  },
  "language_info": {
   "codemirror_mode": {
    "name": "ipython",
    "version": 3
   },
   "file_extension": ".py",
   "mimetype": "text/x-python",
   "name": "python",
   "nbconvert_exporter": "python",
   "pygments_lexer": "ipython3",
   "version": "3.11.13"
  }
 },
 "nbformat": 4,
 "nbformat_minor": 5
}

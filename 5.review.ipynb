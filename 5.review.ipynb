{
 "cells": [
  {
   "cell_type": "code",
   "execution_count": 68,
   "id": "682dc65e",
   "metadata": {},
   "outputs": [],
   "source": [
    "from langchain_ollama import ChatOllama\n",
    "\n",
    "llm = ChatOllama(\n",
    "    model=\"llama3.2:1b\",\n",
    "    temperature=0.0,\n",
    ")"
   ]
  },
  {
   "cell_type": "code",
   "execution_count": 69,
   "id": "65938dc4",
   "metadata": {},
   "outputs": [],
   "source": [
    "#Find the name of the food\n",
    "from langchain_core.output_parsers import StrOutputParser\n",
    "from langchain_core.prompts import PromptTemplate\n",
    "\n",
    "food_prompt = PromptTemplate(\n",
    "    template = \"\"\"Find the food based on the {information}!\n",
    "    Please return the name of food only\"\"\",\n",
    "    input_variables=[\"information\"]\n",
    ")\n",
    "\n",
    "food_chain = food_prompt | llm | StrOutputParser()"
   ]
  },
  {
   "cell_type": "code",
   "execution_count": 70,
   "id": "0c74d0e3",
   "metadata": {},
   "outputs": [
    {
     "data": {
      "text/plain": [
       "'Pizza'"
      ]
     },
     "execution_count": 70,
     "metadata": {},
     "output_type": "execute_result"
    }
   ],
   "source": [
    "food_chain.invoke({\"information\": \"This food is originally from the Italy, but it's known as an American delivery food.\"})"
   ]
  },
  {
   "cell_type": "code",
   "execution_count": 71,
   "id": "ba9624f5",
   "metadata": {},
   "outputs": [],
   "source": [
    "from langchain_core.prompts import ChatPromptTemplate\n",
    "\n",
    "recipe_prompt = ChatPromptTemplate([\n",
    "    (\"system\", \"\"\"You are a helpful assistant that can give me the recipe of the food.\n",
    "      Give me the recipe only as a list with numbers\"\"\"),\n",
    "    (\"human\", \"Could you give me the recipe of {name_of_food}?\")\n",
    "])\n",
    "\n",
    "recipe_chain = recipe_prompt | llm | StrOutputParser()"
   ]
  },
  {
   "cell_type": "code",
   "execution_count": 72,
   "id": "3eed5838",
   "metadata": {},
   "outputs": [
    {
     "data": {
      "text/plain": [
       "\"Here's a classic pizza recipe:\\n\\n**Ingredients:**\\n\\n1. 2 cups warm water\\n2. 2 teaspoons active dry yeast\\n3. 3 tablespoons olive oil\\n4. 1 teaspoon salt\\n5. 4 cups all-purpose flour\\n6. 1 cup pizza sauce (homemade or store-bought)\\n7. 2 cups shredded mozzarella cheese\\n8. Toppings of your choice (e.g., pepperoni, mushrooms, bell peppers, onions)\\n\\n**Instructions:**\\n\\n9. Preheat oven to 450°F (230°C).\\n10. In a large mixing bowl, combine warm water and yeast. Let it sit for 5-7 minutes until yeast is activated.\\n11. Add olive oil, salt, and 2 cups of flour to the bowl. Mix until a shaggy dough forms.\\n12. Gradually add remaining 2 cups of flour, kneading the dough for 5-10 minutes until smooth and elastic.\\n13. Place the dough in a greased bowl, cover with plastic wrap, and let it rise in a warm place for 1 hour, or until doubled in size.\\n14. Punch down the dough and shape into a circle or rectangle, depending on your preference.\\n15. Transfer the dough to a baking sheet or pizza stone that has been sprinkled with cornmeal.\\n16. Spread the pizza sauce over the dough, leaving a small border around the edges.\\n17. Sprinkle shredded mozzarella cheese over the sauce.\\n18. Add your desired toppings.\\n19. Bake in preheated oven for 15-20 minutes, or until crust is golden brown and cheese is melted and bubbly.\\n20. Remove from oven and let cool for a few minutes before slicing and serving.\\n\\n**Optional:**\\n\\n21. You can also add a layer of garlic butter or herbs to the dough for extra flavor.\\n22. Use a pizza peel or a sheet pan to transfer the dough to the oven, if you prefer a more rustic crust.\\n23. Try different topping combinations to find your favorite!\""
      ]
     },
     "execution_count": 72,
     "metadata": {},
     "output_type": "execute_result"
    }
   ],
   "source": [
    "recipe_chain.invoke({\"name_of_food\": \"pizza\"})"
   ]
  },
  {
   "cell_type": "code",
   "execution_count": 73,
   "id": "dc78c3bc",
   "metadata": {},
   "outputs": [],
   "source": [
    "final_chain = {\"name_of_food\": food_chain} | recipe_chain | StrOutputParser()"
   ]
  },
  {
   "cell_type": "code",
   "execution_count": 74,
   "id": "b6f54ef6",
   "metadata": {},
   "outputs": [
    {
     "data": {
      "text/plain": [
       "\"Here's a simple recipe for pizza:\\n\\n1. Ingredients:\\n2. \\n3. 2 cups warm water\\n4. 2 teaspoons sugar\\n5. 2 teaspoons active dry yeast\\n6. 3 tablespoons olive oil\\n7. 1 teaspoon salt\\n8. 4 cups all-purpose flour\\n9. 1 cup pizza sauce (homemade or store-bought)\\n10. 2 cups shredded mozzarella cheese\\n11. Toppings of your choice (e.g., pepperoni, mushrooms, bell peppers, onions)\\n\\n12. Instructions:\\n13. \\n14. 1. In a large mixing bowl, combine warm water, sugar, and yeast. Let it sit for 5-10 minutes until the yeast is activated.\\n15. 2. Add olive oil, salt, and 2 cups of flour to the bowl. Mix until a shaggy dough forms.\\n16. 3. Gradually add the remaining 2 cups of flour, one cup at a time, until the dough becomes smooth and elastic.\\n17. 4. Knead the dough for 5-10 minutes until it's smooth and shiny.\\n18. 5. Place the dough in a greased bowl, cover it with plastic wrap, and let it rise in a warm place for 1-2 hours until it doubles in size.\\n19. 6. Preheat the oven to 450°F (230°C).\\n20. 7. Punch down the dough and shape it into a circle or rectangle depending on your preference.\\n21. 8. Place the dough on a greased baking sheet or pizza stone.\\n22. 9. Spread the pizza sauce over the dough, leaving a small border around the edges.\\n23. 10. Sprinkle shredded mozzarella cheese over the sauce.\\n24. 11. Add your desired toppings.\\n25. 12. Bake the pizza in the preheated oven for 15-20 minutes until the crust is golden brown and the cheese is melted and bubbly.\\n\\n26. Enjoy your homemade pizza!\""
      ]
     },
     "execution_count": 74,
     "metadata": {},
     "output_type": "execute_result"
    }
   ],
   "source": [
    "final_chain.invoke({\"information\": \"This food is originally from the Italy, but it's known as an American delivery food.\"})"
   ]
  }
 ],
 "metadata": {
  "kernelspec": {
   "display_name": "langchain-basic",
   "language": "python",
   "name": "python3"
  },
  "language_info": {
   "codemirror_mode": {
    "name": "ipython",
    "version": 3
   },
   "file_extension": ".py",
   "mimetype": "text/x-python",
   "name": "python",
   "nbconvert_exporter": "python",
   "pygments_lexer": "ipython3",
   "version": "3.11.13"
  }
 },
 "nbformat": 4,
 "nbformat_minor": 5
}

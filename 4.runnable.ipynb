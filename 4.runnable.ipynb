{
 "cells": [
  {
   "cell_type": "code",
   "execution_count": 1,
   "id": "47890974",
   "metadata": {},
   "outputs": [],
   "source": [
    "from langchain_ollama import ChatOllama\n",
    "\n",
    "llm = ChatOllama(model=\"llama3.2:1b\")"
   ]
  },
  {
   "cell_type": "code",
   "execution_count": null,
   "id": "eba17f19",
   "metadata": {},
   "outputs": [
    {
     "name": "stdout",
     "output_type": "stream",
     "text": [
      "text='what is the capital of Japan? Return the name of the capital only'\n",
      "content='Tokyo' additional_kwargs={} response_metadata={'model': 'llama3.2:1b', 'created_at': '2025-07-24T03:34:43.7927274Z', 'done': True, 'done_reason': 'stop', 'total_duration': 102863000, 'load_duration': 27528900, 'prompt_eval_count': 39, 'prompt_eval_duration': 4709100, 'eval_count': 3, 'eval_duration': 70116400, 'model_name': 'llama3.2:1b'} id='run--8c5bb15b-4530-46bd-8c6e-841a287f0160-0' usage_metadata={'input_tokens': 39, 'output_tokens': 3, 'total_tokens': 42}\n"
     ]
    }
   ],
   "source": [
    "from langchain_core.prompts import PromptTemplate\n",
    "from langchain_core.output_parsers import StrOutputParser\n",
    "\n",
    "prompt_template = PromptTemplate(\n",
    "    template=\"what is the capital of {country}? Return the name of the capital only\",\n",
    "    input_variables=[\"country\"]\n",
    ")\n",
    "\n",
    "promt = prompt_template.invoke({\"country\": \"Japan\"})\n",
    "\n",
    "print(promt)\n",
    "\n",
    "ai_msg = llm.invoke(prompt_template.invoke({\"country\": \"Japan\"}))\n",
    "\n",
    "print(ai_msg)\n",
    "\n",
    "output_parser = StrOutputParser()\n",
    "\n",
    "answer = output_parser.invoke(ai_msg)"
   ]
  },
  {
   "cell_type": "code",
   "execution_count": 3,
   "id": "bb8b2cb2",
   "metadata": {},
   "outputs": [],
   "source": [
    "capital_chain = prompt_template | llm | output_parser"
   ]
  },
  {
   "cell_type": "code",
   "execution_count": 4,
   "id": "c14cf0ff",
   "metadata": {},
   "outputs": [
    {
     "data": {
      "text/plain": [
       "'Seoul'"
      ]
     },
     "execution_count": 4,
     "metadata": {},
     "output_type": "execute_result"
    }
   ],
   "source": [
    "capital_chain.invoke({\"country\": \"Korea\"})"
   ]
  },
  {
   "cell_type": "code",
   "execution_count": null,
   "id": "46fbb059",
   "metadata": {},
   "outputs": [
    {
     "data": {
      "text/plain": [
       "'South Korea'"
      ]
     },
     "execution_count": 22,
     "metadata": {},
     "output_type": "execute_result"
    }
   ],
   "source": [
    "country_prompt = PromptTemplate(\n",
    "    template = \"\"\"Guess the name of the country in the {continent} based on the following hint:\n",
    "    {hint}\n",
    "    Return the name of the country only\n",
    "    \"\"\",\n",
    "    input_variables=[\"hint\", \"continent\"],\n",
    ")\n",
    "\n",
    "country_chain = country_prompt | llm | output_parser\n",
    "country_chain.invoke({\"hint\": \"This country is in Asia and that is famous for Kimchi\"})"
   ]
  },
  {
   "cell_type": "code",
   "execution_count": 27,
   "id": "6878b823",
   "metadata": {},
   "outputs": [],
   "source": [
    "from langchain_core.runnables import RunnablePassthrough\n",
    "\n",
    "final_chain = {\"country\": RunnablePassthrough(), \"continent\": RunnablePassthrough()} | capital_chain"
   ]
  },
  {
   "cell_type": "code",
   "execution_count": 93,
   "id": "55e76830",
   "metadata": {},
   "outputs": [
    {
     "data": {
      "text/plain": [
       "'Tokyo'"
      ]
     },
     "execution_count": 93,
     "metadata": {},
     "output_type": "execute_result"
    }
   ],
   "source": [
    "final_chain.invoke({\"country\": \"This country is in Asia and that is famous for Kimchi\", \"continent\": \"Asia\"})"
   ]
  }
 ],
 "metadata": {
  "kernelspec": {
   "display_name": "langchain-basic",
   "language": "python",
   "name": "python3"
  },
  "language_info": {
   "codemirror_mode": {
    "name": "ipython",
    "version": 3
   },
   "file_extension": ".py",
   "mimetype": "text/x-python",
   "name": "python",
   "nbconvert_exporter": "python",
   "pygments_lexer": "ipython3",
   "version": "3.11.13"
  }
 },
 "nbformat": 4,
 "nbformat_minor": 5
}

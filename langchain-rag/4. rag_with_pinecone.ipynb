{
 "cells": [
  {
   "cell_type": "markdown",
   "id": "d5d7db23",
   "metadata": {},
   "source": [
    "# 1. Split the document.\n",
    "# 2. Separate the document.\n",
    "#     - Cannot generate the answer due to exceeding the number of tokens.\n",
    "#     - Generation time depends on the length of the document.\n",
    "# 3. Embed and save to the vector database.\n",
    "# 4. Query: perform similarity search on the vector database.\n",
    "# 5. Pass the documents from the similarity search to the LLM."
   ]
  },
  {
   "cell_type": "code",
   "execution_count": null,
   "id": "9b2ac31f",
   "metadata": {},
   "outputs": [],
   "source": [
    "from langchain_community.document_loaders import Docx2txtLoader\n",
    "from langchain_text_splitters import RecursiveCharacterTextSplitter\n",
    "\n",
    "text_splitter = RecursiveCharacterTextSplitter(\n",
    "    chunk_size=1500,    \n",
    "    chunk_overlap=200, \n",
    ")\n",
    "\n",
    "loader = Docx2txtLoader(\"./tax.docx\")\n",
    "document_lists = loader.load_and_split(text_splitter=text_splitter)\n",
    "len(document_lists)"
   ]
  },
  {
   "cell_type": "code",
   "execution_count": null,
   "id": "eaf40e62",
   "metadata": {},
   "outputs": [],
   "source": [
    "document_lists"
   ]
  },
  {
   "cell_type": "code",
   "execution_count": null,
   "id": "85f04ca7",
   "metadata": {},
   "outputs": [],
   "source": [
    "from langchain_openai import OpenAIEmbeddings\n",
    "from dotenv import load_dotenv\n",
    "\n",
    "load_dotenv()\n",
    "\n",
    "embedding = OpenAIEmbeddings(model='text-embedding-3-large')"
   ]
  },
  {
   "cell_type": "code",
   "execution_count": null,
   "id": "d230ef08",
   "metadata": {},
   "outputs": [],
   "source": [
    "import os\n",
    "from pinecone import Pinecone\n",
    "from langchain_pinecone import PineconeVectorStore\n",
    "from dotenv import load_dotenv\n",
    "\n",
    "load_dotenv()\n",
    "\n",
    "index_name = 'tax-index'\n",
    "pinecone_api_key = os.getenv('PINECONE_API_KEY')\n",
    "\n",
    "pc = Pinecone(api_key=pinecone_api_key)\n",
    "\n",
    "database = PineconeVectorStore.from_documents(\n",
    "    documents=document_lists,\n",
    "    embedding=embedding,\n",
    "    index_name=index_name\n",
    ")"
   ]
  },
  {
   "cell_type": "code",
   "execution_count": null,
   "id": "80c9279f",
   "metadata": {},
   "outputs": [],
   "source": [
    "query = '연봉이 5000만원인 직장인은 소득세로 얼마를 내야하나요?'\n",
    "retrieved_docs = database.similarity_search(query)"
   ]
  },
  {
   "cell_type": "code",
   "execution_count": null,
   "id": "9b6b02a9",
   "metadata": {},
   "outputs": [],
   "source": [
    "retrieved_docs"
   ]
  },
  {
   "cell_type": "code",
   "execution_count": null,
   "id": "d66ecb80",
   "metadata": {},
   "outputs": [],
   "source": [
    "from langchain_openai import ChatOpenAI\n",
    "\n",
    "llm = ChatOpenAI()"
   ]
  },
  {
   "cell_type": "code",
   "execution_count": null,
   "id": "177ed83f",
   "metadata": {},
   "outputs": [],
   "source": [
    "from langchain import hub\n",
    "\n",
    "prompt = hub.pull(\"rlm/rag-prompt\")"
   ]
  },
  {
   "cell_type": "code",
   "execution_count": null,
   "id": "7e07db5b",
   "metadata": {},
   "outputs": [],
   "source": [
    "from langchain.chains import RetrievalQA\n",
    "\n",
    "qa_chain = RetrievalQA.from_chain_type(\n",
    "    llm,\n",
    "    retriever=database.as_retriever(),\n",
    "    chain_type_kwargs={\"prompt\": prompt},\n",
    ")"
   ]
  },
  {
   "cell_type": "code",
   "execution_count": null,
   "id": "71442a5a",
   "metadata": {},
   "outputs": [],
   "source": [
    "ai_msg = qa_chain.invoke({\"query\": query})"
   ]
  },
  {
   "cell_type": "code",
   "execution_count": null,
   "id": "50546ce0",
   "metadata": {},
   "outputs": [],
   "source": [
    "ai_msg"
   ]
  }
 ],
 "metadata": {
  "kernelspec": {
   "display_name": "langchain",
   "language": "python",
   "name": "python3"
  },
  "language_info": {
   "codemirror_mode": {
    "name": "ipython",
    "version": 3
   },
   "file_extension": ".py",
   "mimetype": "text/x-python",
   "name": "python",
   "nbconvert_exporter": "python",
   "pygments_lexer": "ipython3",
   "version": "3.11.13"
  }
 },
 "nbformat": 4,
 "nbformat_minor": 5
}

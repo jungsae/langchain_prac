{
 "cells": [
  {
   "cell_type": "code",
   "execution_count": 54,
   "id": "47890974",
   "metadata": {},
   "outputs": [],
   "source": [
    "from langchain_ollama import ChatOllama\n",
    "\n",
    "llm = ChatOllama(model=\"llama3.2:1b\")"
   ]
  },
  {
   "cell_type": "code",
   "execution_count": 55,
   "id": "eba17f19",
   "metadata": {},
   "outputs": [
    {
     "name": "stdout",
     "output_type": "stream",
     "text": [
      "text='what is the capital of Japan? Return the name of the capital only'\n",
      "content='Tokyo' additional_kwargs={} response_metadata={'model': 'llama3.2:1b', 'created_at': '2025-07-24T03:12:13.9906748Z', 'done': True, 'done_reason': 'stop', 'total_duration': 59244500, 'load_duration': 39119200, 'prompt_eval_count': 39, 'prompt_eval_duration': 5967800, 'eval_count': 3, 'eval_duration': 13653700, 'model_name': 'llama3.2:1b'} id='run--ef4e8069-b1be-43f9-ab3b-2281ecc73255-0' usage_metadata={'input_tokens': 39, 'output_tokens': 3, 'total_tokens': 42}\n"
     ]
    }
   ],
   "source": [
    "from langchain_core.prompts import PromptTemplate\n",
    "from langchain_core.output_parsers import StrOutputParser\n",
    "\n",
    "prompt_template = PromptTemplate(\n",
    "    template=\"what is the capital of {country}? Return the name of the capital only\",\n",
    "    input_variables=[\"country\"]\n",
    ")\n",
    "\n",
    "promt = prompt_template.invoke({\"country\": \"Japan\"})\n",
    "\n",
    "print(promt)\n",
    "\n",
    "ai_msg = llm.invoke(prompt_template.invoke({\"country\": \"Japan\"}))\n",
    "\n",
    "print(ai_msg)\n",
    "\n",
    "output_parser = StrOutputParser()\n",
    "\n",
    "answer = output_parser.invoke(ai_msg)"
   ]
  },
  {
   "cell_type": "code",
   "execution_count": 56,
   "id": "a4e5583e",
   "metadata": {},
   "outputs": [
    {
     "data": {
      "text/plain": [
       "AIMessage(content='Tokyo', additional_kwargs={}, response_metadata={'model': 'llama3.2:1b', 'created_at': '2025-07-24T03:12:13.9906748Z', 'done': True, 'done_reason': 'stop', 'total_duration': 59244500, 'load_duration': 39119200, 'prompt_eval_count': 39, 'prompt_eval_duration': 5967800, 'eval_count': 3, 'eval_duration': 13653700, 'model_name': 'llama3.2:1b'}, id='run--ef4e8069-b1be-43f9-ab3b-2281ecc73255-0', usage_metadata={'input_tokens': 39, 'output_tokens': 3, 'total_tokens': 42})"
      ]
     },
     "execution_count": 56,
     "metadata": {},
     "output_type": "execute_result"
    }
   ],
   "source": [
    "ai_msg"
   ]
  },
  {
   "cell_type": "code",
   "execution_count": 57,
   "id": "609bd314",
   "metadata": {},
   "outputs": [
    {
     "data": {
      "text/plain": [
       "'Tokyo'"
      ]
     },
     "execution_count": 57,
     "metadata": {},
     "output_type": "execute_result"
    }
   ],
   "source": [
    "answer"
   ]
  },
  {
   "cell_type": "code",
   "execution_count": 58,
   "id": "66b43b5d",
   "metadata": {},
   "outputs": [],
   "source": [
    "from pydantic import BaseModel, Field\n",
    "\n",
    "class CountryDetail(BaseModel):\n",
    "    capital: str = Field(description=\"The capital of the country\")\n",
    "    population: int = Field(description=\"The population of the country\")\n",
    "    area: float = Field(description=\"The area of the country\")\n",
    "    population_density: float = Field(description=\"The population density of the country\")\n",
    "    currency: str = Field(description=\"The currency of the country\")\n",
    "    language: str = Field(description=\"The language of the country\")\n",
    "\n",
    "structured_llm = llm.with_structured_output(CountryDetail)"
   ]
  },
  {
   "cell_type": "code",
   "execution_count": 59,
   "id": "c6cfa9f3",
   "metadata": {},
   "outputs": [],
   "source": [
    "from langchain_core.output_parsers import JsonOutputParser\n",
    "\n",
    "#! JSON 형식은 JSONOutputParser 사용X => Pydantic 사용 !\n",
    "\n",
    "country_detail_prompt = PromptTemplate(\n",
    "    template = \"\"\"Give following information about the {country}:\n",
    "    - Capital\n",
    "    - Population\n",
    "    - Area\n",
    "    - Population density\n",
    "    - currency\n",
    "    - language\n",
    "    \"\"\",\n",
    "    input_variables=[\"country\"],\n",
    ")\n",
    "\n",
    "country_detail_prompt.invoke({\"country\": \"Korea\"})\n",
    "\n",
    "# output_parser = JsonOutputParser()\n",
    "json_ai_msg = structured_llm.invoke(country_detail_prompt.invoke({\"country\": \"Korea\"}))\n",
    "# output_parser.invoke(json_ai_msg)"
   ]
  },
  {
   "cell_type": "code",
   "execution_count": 60,
   "id": "46fce13b",
   "metadata": {},
   "outputs": [
    {
     "data": {
      "text/plain": [
       "CountryDetail(capital='Seoul', population=51, area=100.0, population_density=1.0, currency='Korean won', language='Korean')"
      ]
     },
     "execution_count": 60,
     "metadata": {},
     "output_type": "execute_result"
    }
   ],
   "source": [
    "(json_ai_msg)"
   ]
  },
  {
   "cell_type": "code",
   "execution_count": 61,
   "id": "a70b2a45",
   "metadata": {},
   "outputs": [
    {
     "data": {
      "text/plain": [
       "100.0"
      ]
     },
     "execution_count": 61,
     "metadata": {},
     "output_type": "execute_result"
    }
   ],
   "source": [
    "json_ai_msg.area"
   ]
  },
  {
   "cell_type": "code",
   "execution_count": 62,
   "id": "0e118fec",
   "metadata": {},
   "outputs": [
    {
     "data": {
      "text/plain": [
       "dict"
      ]
     },
     "execution_count": 62,
     "metadata": {},
     "output_type": "execute_result"
    }
   ],
   "source": [
    "json_ai_msg.model_dump()['area']\n",
    "type(json_ai_msg.model_dump())\n",
    "# json(dict)"
   ]
  }
 ],
 "metadata": {
  "kernelspec": {
   "display_name": "langchain-basic",
   "language": "python",
   "name": "python3"
  },
  "language_info": {
   "codemirror_mode": {
    "name": "ipython",
    "version": 3
   },
   "file_extension": ".py",
   "mimetype": "text/x-python",
   "name": "python",
   "nbconvert_exporter": "python",
   "pygments_lexer": "ipython3",
   "version": "3.11.13"
  }
 },
 "nbformat": 4,
 "nbformat_minor": 5
}
